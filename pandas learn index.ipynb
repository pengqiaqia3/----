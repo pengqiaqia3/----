{
 "cells": [
  {
   "cell_type": "code",
   "execution_count": 6,
   "id": "e7297f68",
   "metadata": {},
   "outputs": [
    {
     "data": {
      "text/plain": [
       "4    0\n",
       "3    1\n",
       "2    2\n",
       "1    3\n",
       "0    4\n",
       "dtype: int64"
      ]
     },
     "execution_count": 6,
     "metadata": {},
     "output_type": "execute_result"
    }
   ],
   "source": [
    "import pandas as pd\n",
    "import numpy as np\n",
    "s = pd.Series(np.arange(5),index=np.arange(5)[::-1],dtype='int64')\n",
    "s"
   ]
  },
  {
   "cell_type": "code",
   "execution_count": 7,
   "id": "9dcb9c63",
   "metadata": {},
   "outputs": [
    {
     "data": {
      "text/plain": [
       "4    False\n",
       "3     True\n",
       "2    False\n",
       "1     True\n",
       "0     True\n",
       "dtype: bool"
      ]
     },
     "execution_count": 7,
     "metadata": {},
     "output_type": "execute_result"
    }
   ],
   "source": [
    "s.isin([1,3,4])"
   ]
  },
  {
   "cell_type": "code",
   "execution_count": 8,
   "id": "eee9de84",
   "metadata": {},
   "outputs": [
    {
     "data": {
      "text/plain": [
       "3    1\n",
       "1    3\n",
       "0    4\n",
       "dtype: int64"
      ]
     },
     "execution_count": 8,
     "metadata": {},
     "output_type": "execute_result"
    }
   ],
   "source": [
    "s[s.isin([1,3,4])]"
   ]
  },
  {
   "cell_type": "code",
   "execution_count": 9,
   "id": "6d2e42c5",
   "metadata": {},
   "outputs": [
    {
     "data": {
      "text/plain": [
       "0  a    0\n",
       "   b    1\n",
       "   c    2\n",
       "1  a    3\n",
       "   b    4\n",
       "   c    5\n",
       "dtype: int32"
      ]
     },
     "execution_count": 9,
     "metadata": {},
     "output_type": "execute_result"
    }
   ],
   "source": [
    "s2 = pd.Series(np.arange(6),index=pd.MultiIndex.from_product([[0,1],['a','b','c']]))\n",
    "s2"
   ]
  },
  {
   "cell_type": "code",
   "execution_count": 10,
   "id": "e4d48a3e",
   "metadata": {},
   "outputs": [
    {
     "data": {
      "text/plain": [
       "array([False,  True, False,  True, False, False])"
      ]
     },
     "execution_count": 10,
     "metadata": {},
     "output_type": "execute_result"
    }
   ],
   "source": [
    "s2.index.isin([(1,'a'),(0,'b')])   "
   ]
  },
  {
   "cell_type": "code",
   "execution_count": 11,
   "id": "8e378f99",
   "metadata": {},
   "outputs": [
    {
     "data": {
      "text/plain": [
       "0  b    1\n",
       "1  a    3\n",
       "dtype: int32"
      ]
     },
     "execution_count": 11,
     "metadata": {},
     "output_type": "execute_result"
    }
   ],
   "source": [
    "s2.iloc[s2.index.isin([(1,'a'),(0,'b')])]  # 多重索引的多个查找"
   ]
  },
  {
   "cell_type": "code",
   "execution_count": 12,
   "id": "37fc2087",
   "metadata": {},
   "outputs": [
    {
     "data": {
      "text/plain": [
       "1"
      ]
     },
     "execution_count": 12,
     "metadata": {},
     "output_type": "execute_result"
    }
   ],
   "source": [
    "s2.loc[(0,'b')]    # 多重索引的使用"
   ]
  },
  {
   "cell_type": "code",
   "execution_count": 13,
   "id": "4be207fd",
   "metadata": {},
   "outputs": [
    {
     "data": {
      "text/plain": [
       "4    0\n",
       "3    1\n",
       "2    2\n",
       "1    3\n",
       "0    4\n",
       "dtype: int64"
      ]
     },
     "execution_count": 13,
     "metadata": {},
     "output_type": "execute_result"
    }
   ],
   "source": [
    "s"
   ]
  },
  {
   "cell_type": "code",
   "execution_count": 14,
   "id": "d6879602",
   "metadata": {},
   "outputs": [
    {
     "data": {
      "text/plain": [
       "1    3\n",
       "0    4\n",
       "dtype: int64"
      ]
     },
     "execution_count": 14,
     "metadata": {},
     "output_type": "execute_result"
    }
   ],
   "source": [
    "s[s>2]"
   ]
  },
  {
   "cell_type": "code",
   "execution_count": 15,
   "id": "eb46494c",
   "metadata": {},
   "outputs": [
    {
     "data": {
      "text/plain": [
       "DatetimeIndex(['2025-06-03', '2025-06-04', '2025-06-05', '2025-06-06',\n",
       "               '2025-06-07', '2025-06-08', '2025-06-09', '2025-06-10'],\n",
       "              dtype='datetime64[ns]', freq='D')"
      ]
     },
     "execution_count": 15,
     "metadata": {},
     "output_type": "execute_result"
    }
   ],
   "source": [
    "dates = pd.date_range('2025-6-3',periods=8)    # 构造8天的时间数据\n",
    "dates"
   ]
  },
  {
   "cell_type": "code",
   "execution_count": 16,
   "id": "7da3286c",
   "metadata": {},
   "outputs": [
    {
     "data": {
      "text/html": [
       "<div>\n",
       "<style scoped>\n",
       "    .dataframe tbody tr th:only-of-type {\n",
       "        vertical-align: middle;\n",
       "    }\n",
       "\n",
       "    .dataframe tbody tr th {\n",
       "        vertical-align: top;\n",
       "    }\n",
       "\n",
       "    .dataframe thead th {\n",
       "        text-align: right;\n",
       "    }\n",
       "</style>\n",
       "<table border=\"1\" class=\"dataframe\">\n",
       "  <thead>\n",
       "    <tr style=\"text-align: right;\">\n",
       "      <th></th>\n",
       "      <th>A</th>\n",
       "      <th>B</th>\n",
       "      <th>C</th>\n",
       "      <th>D</th>\n",
       "    </tr>\n",
       "  </thead>\n",
       "  <tbody>\n",
       "    <tr>\n",
       "      <th>2025-06-03</th>\n",
       "      <td>0.473292</td>\n",
       "      <td>0.974975</td>\n",
       "      <td>0.371515</td>\n",
       "      <td>0.914074</td>\n",
       "    </tr>\n",
       "    <tr>\n",
       "      <th>2025-06-04</th>\n",
       "      <td>1.443943</td>\n",
       "      <td>-0.153180</td>\n",
       "      <td>0.636838</td>\n",
       "      <td>-1.371176</td>\n",
       "    </tr>\n",
       "    <tr>\n",
       "      <th>2025-06-05</th>\n",
       "      <td>0.154841</td>\n",
       "      <td>0.989677</td>\n",
       "      <td>0.391948</td>\n",
       "      <td>0.157803</td>\n",
       "    </tr>\n",
       "    <tr>\n",
       "      <th>2025-06-06</th>\n",
       "      <td>-0.430711</td>\n",
       "      <td>0.740316</td>\n",
       "      <td>-1.610832</td>\n",
       "      <td>-0.860933</td>\n",
       "    </tr>\n",
       "    <tr>\n",
       "      <th>2025-06-07</th>\n",
       "      <td>1.097007</td>\n",
       "      <td>0.229911</td>\n",
       "      <td>-2.112147</td>\n",
       "      <td>-1.398240</td>\n",
       "    </tr>\n",
       "    <tr>\n",
       "      <th>2025-06-08</th>\n",
       "      <td>-0.623830</td>\n",
       "      <td>1.997112</td>\n",
       "      <td>0.187415</td>\n",
       "      <td>0.608741</td>\n",
       "    </tr>\n",
       "    <tr>\n",
       "      <th>2025-06-09</th>\n",
       "      <td>-0.175746</td>\n",
       "      <td>-0.333224</td>\n",
       "      <td>0.849869</td>\n",
       "      <td>0.534899</td>\n",
       "    </tr>\n",
       "    <tr>\n",
       "      <th>2025-06-10</th>\n",
       "      <td>2.001762</td>\n",
       "      <td>1.224875</td>\n",
       "      <td>1.132996</td>\n",
       "      <td>-1.129727</td>\n",
       "    </tr>\n",
       "  </tbody>\n",
       "</table>\n",
       "</div>"
      ],
      "text/plain": [
       "                   A         B         C         D\n",
       "2025-06-03  0.473292  0.974975  0.371515  0.914074\n",
       "2025-06-04  1.443943 -0.153180  0.636838 -1.371176\n",
       "2025-06-05  0.154841  0.989677  0.391948  0.157803\n",
       "2025-06-06 -0.430711  0.740316 -1.610832 -0.860933\n",
       "2025-06-07  1.097007  0.229911 -2.112147 -1.398240\n",
       "2025-06-08 -0.623830  1.997112  0.187415  0.608741\n",
       "2025-06-09 -0.175746 -0.333224  0.849869  0.534899\n",
       "2025-06-10  2.001762  1.224875  1.132996 -1.129727"
      ]
     },
     "execution_count": 16,
     "metadata": {},
     "output_type": "execute_result"
    }
   ],
   "source": [
    "df = pd.DataFrame(data=np.random.randn(8,4),index=dates,columns=['A','B','C','D'])\n",
    "df"
   ]
  },
  {
   "cell_type": "code",
   "execution_count": 17,
   "id": "367fd86d",
   "metadata": {},
   "outputs": [
    {
     "data": {
      "text/plain": [
       "2025-06-03    0.473292\n",
       "2025-06-04    1.443943\n",
       "2025-06-05    0.154841\n",
       "2025-06-06   -0.430711\n",
       "2025-06-07    1.097007\n",
       "2025-06-08   -0.623830\n",
       "2025-06-09   -0.175746\n",
       "2025-06-10    2.001762\n",
       "Freq: D, Name: A, dtype: float64"
      ]
     },
     "execution_count": 17,
     "metadata": {},
     "output_type": "execute_result"
    }
   ],
   "source": [
    "df.loc[:]['A']"
   ]
  },
  {
   "cell_type": "code",
   "execution_count": 18,
   "id": "3b9cb8fb",
   "metadata": {},
   "outputs": [
    {
     "data": {
      "text/plain": [
       "2025-06-03    0.473292\n",
       "2025-06-04    1.443943\n",
       "2025-06-05    0.154841\n",
       "2025-06-06   -0.430711\n",
       "2025-06-07    1.097007\n",
       "2025-06-08   -0.623830\n",
       "2025-06-09   -0.175746\n",
       "2025-06-10    2.001762\n",
       "Freq: D, Name: A, dtype: float64"
      ]
     },
     "execution_count": 18,
     "metadata": {},
     "output_type": "execute_result"
    }
   ],
   "source": [
    "df['A']"
   ]
  },
  {
   "cell_type": "code",
   "execution_count": 19,
   "id": "8d1a2e24",
   "metadata": {},
   "outputs": [
    {
     "data": {
      "text/html": [
       "<div>\n",
       "<style scoped>\n",
       "    .dataframe tbody tr th:only-of-type {\n",
       "        vertical-align: middle;\n",
       "    }\n",
       "\n",
       "    .dataframe tbody tr th {\n",
       "        vertical-align: top;\n",
       "    }\n",
       "\n",
       "    .dataframe thead th {\n",
       "        text-align: right;\n",
       "    }\n",
       "</style>\n",
       "<table border=\"1\" class=\"dataframe\">\n",
       "  <thead>\n",
       "    <tr style=\"text-align: right;\">\n",
       "      <th></th>\n",
       "      <th>A</th>\n",
       "      <th>B</th>\n",
       "      <th>C</th>\n",
       "      <th>D</th>\n",
       "    </tr>\n",
       "  </thead>\n",
       "  <tbody>\n",
       "    <tr>\n",
       "      <th>2025-06-03</th>\n",
       "      <td>NaN</td>\n",
       "      <td>NaN</td>\n",
       "      <td>NaN</td>\n",
       "      <td>NaN</td>\n",
       "    </tr>\n",
       "    <tr>\n",
       "      <th>2025-06-04</th>\n",
       "      <td>NaN</td>\n",
       "      <td>-0.153180</td>\n",
       "      <td>NaN</td>\n",
       "      <td>-1.371176</td>\n",
       "    </tr>\n",
       "    <tr>\n",
       "      <th>2025-06-05</th>\n",
       "      <td>NaN</td>\n",
       "      <td>NaN</td>\n",
       "      <td>NaN</td>\n",
       "      <td>NaN</td>\n",
       "    </tr>\n",
       "    <tr>\n",
       "      <th>2025-06-06</th>\n",
       "      <td>-0.430711</td>\n",
       "      <td>NaN</td>\n",
       "      <td>-1.610832</td>\n",
       "      <td>-0.860933</td>\n",
       "    </tr>\n",
       "    <tr>\n",
       "      <th>2025-06-07</th>\n",
       "      <td>NaN</td>\n",
       "      <td>NaN</td>\n",
       "      <td>-2.112147</td>\n",
       "      <td>-1.398240</td>\n",
       "    </tr>\n",
       "    <tr>\n",
       "      <th>2025-06-08</th>\n",
       "      <td>-0.623830</td>\n",
       "      <td>NaN</td>\n",
       "      <td>NaN</td>\n",
       "      <td>NaN</td>\n",
       "    </tr>\n",
       "    <tr>\n",
       "      <th>2025-06-09</th>\n",
       "      <td>-0.175746</td>\n",
       "      <td>-0.333224</td>\n",
       "      <td>NaN</td>\n",
       "      <td>NaN</td>\n",
       "    </tr>\n",
       "    <tr>\n",
       "      <th>2025-06-10</th>\n",
       "      <td>NaN</td>\n",
       "      <td>NaN</td>\n",
       "      <td>NaN</td>\n",
       "      <td>-1.129727</td>\n",
       "    </tr>\n",
       "  </tbody>\n",
       "</table>\n",
       "</div>"
      ],
      "text/plain": [
       "                   A         B         C         D\n",
       "2025-06-03       NaN       NaN       NaN       NaN\n",
       "2025-06-04       NaN -0.153180       NaN -1.371176\n",
       "2025-06-05       NaN       NaN       NaN       NaN\n",
       "2025-06-06 -0.430711       NaN -1.610832 -0.860933\n",
       "2025-06-07       NaN       NaN -2.112147 -1.398240\n",
       "2025-06-08 -0.623830       NaN       NaN       NaN\n",
       "2025-06-09 -0.175746 -0.333224       NaN       NaN\n",
       "2025-06-10       NaN       NaN       NaN -1.129727"
      ]
     },
     "execution_count": 19,
     "metadata": {},
     "output_type": "execute_result"
    }
   ],
   "source": [
    "df.where(df < 0)"
   ]
  },
  {
   "cell_type": "code",
   "execution_count": null,
   "id": "ae36801a",
   "metadata": {},
   "outputs": [
    {
     "data": {
      "text/html": [
       "<div>\n",
       "<style scoped>\n",
       "    .dataframe tbody tr th:only-of-type {\n",
       "        vertical-align: middle;\n",
       "    }\n",
       "\n",
       "    .dataframe tbody tr th {\n",
       "        vertical-align: top;\n",
       "    }\n",
       "\n",
       "    .dataframe thead th {\n",
       "        text-align: right;\n",
       "    }\n",
       "</style>\n",
       "<table border=\"1\" class=\"dataframe\">\n",
       "  <thead>\n",
       "    <tr style=\"text-align: right;\">\n",
       "      <th></th>\n",
       "      <th>A</th>\n",
       "      <th>B</th>\n",
       "      <th>C</th>\n",
       "      <th>D</th>\n",
       "    </tr>\n",
       "  </thead>\n",
       "  <tbody>\n",
       "    <tr>\n",
       "      <th>2025-06-03</th>\n",
       "      <td>-0.473292</td>\n",
       "      <td>-0.974975</td>\n",
       "      <td>-0.371515</td>\n",
       "      <td>-0.914074</td>\n",
       "    </tr>\n",
       "    <tr>\n",
       "      <th>2025-06-04</th>\n",
       "      <td>-1.443943</td>\n",
       "      <td>-0.153180</td>\n",
       "      <td>-0.636838</td>\n",
       "      <td>-1.371176</td>\n",
       "    </tr>\n",
       "    <tr>\n",
       "      <th>2025-06-05</th>\n",
       "      <td>-0.154841</td>\n",
       "      <td>-0.989677</td>\n",
       "      <td>-0.391948</td>\n",
       "      <td>-0.157803</td>\n",
       "    </tr>\n",
       "    <tr>\n",
       "      <th>2025-06-06</th>\n",
       "      <td>-0.430711</td>\n",
       "      <td>-0.740316</td>\n",
       "      <td>-1.610832</td>\n",
       "      <td>-0.860933</td>\n",
       "    </tr>\n",
       "    <tr>\n",
       "      <th>2025-06-07</th>\n",
       "      <td>-1.097007</td>\n",
       "      <td>-0.229911</td>\n",
       "      <td>-2.112147</td>\n",
       "      <td>-1.398240</td>\n",
       "    </tr>\n",
       "    <tr>\n",
       "      <th>2025-06-08</th>\n",
       "      <td>-0.623830</td>\n",
       "      <td>-1.997112</td>\n",
       "      <td>-0.187415</td>\n",
       "      <td>-0.608741</td>\n",
       "    </tr>\n",
       "    <tr>\n",
       "      <th>2025-06-09</th>\n",
       "      <td>-0.175746</td>\n",
       "      <td>-0.333224</td>\n",
       "      <td>-0.849869</td>\n",
       "      <td>-0.534899</td>\n",
       "    </tr>\n",
       "    <tr>\n",
       "      <th>2025-06-10</th>\n",
       "      <td>-2.001762</td>\n",
       "      <td>-1.224875</td>\n",
       "      <td>-1.132996</td>\n",
       "      <td>-1.129727</td>\n",
       "    </tr>\n",
       "  </tbody>\n",
       "</table>\n",
       "</div>"
      ],
      "text/plain": [
       "                   A         B         C         D\n",
       "2025-06-03 -0.473292 -0.974975 -0.371515 -0.914074\n",
       "2025-06-04 -1.443943 -0.153180 -0.636838 -1.371176\n",
       "2025-06-05 -0.154841 -0.989677 -0.391948 -0.157803\n",
       "2025-06-06 -0.430711 -0.740316 -1.610832 -0.860933\n",
       "2025-06-07 -1.097007 -0.229911 -2.112147 -1.398240\n",
       "2025-06-08 -0.623830 -1.997112 -0.187415 -0.608741\n",
       "2025-06-09 -0.175746 -0.333224 -0.849869 -0.534899\n",
       "2025-06-10 -2.001762 -1.224875 -1.132996 -1.129727"
      ]
     },
     "execution_count": 21,
     "metadata": {},
     "output_type": "execute_result"
    }
   ],
   "source": [
    "df.where(df < 0,other=-df)   # df中小于0之外的其他值变为负值"
   ]
  },
  {
   "cell_type": "code",
   "execution_count": 22,
   "id": "56804b4a",
   "metadata": {},
   "outputs": [
    {
     "data": {
      "text/html": [
       "<div>\n",
       "<style scoped>\n",
       "    .dataframe tbody tr th:only-of-type {\n",
       "        vertical-align: middle;\n",
       "    }\n",
       "\n",
       "    .dataframe tbody tr th {\n",
       "        vertical-align: top;\n",
       "    }\n",
       "\n",
       "    .dataframe thead th {\n",
       "        text-align: right;\n",
       "    }\n",
       "</style>\n",
       "<table border=\"1\" class=\"dataframe\">\n",
       "  <thead>\n",
       "    <tr style=\"text-align: right;\">\n",
       "      <th></th>\n",
       "      <th>a</th>\n",
       "      <th>b</th>\n",
       "      <th>c</th>\n",
       "    </tr>\n",
       "  </thead>\n",
       "  <tbody>\n",
       "    <tr>\n",
       "      <th>0</th>\n",
       "      <td>0.595588</td>\n",
       "      <td>-0.214106</td>\n",
       "      <td>-0.340864</td>\n",
       "    </tr>\n",
       "    <tr>\n",
       "      <th>1</th>\n",
       "      <td>-1.589176</td>\n",
       "      <td>-0.824616</td>\n",
       "      <td>-0.303373</td>\n",
       "    </tr>\n",
       "    <tr>\n",
       "      <th>2</th>\n",
       "      <td>0.183353</td>\n",
       "      <td>0.576995</td>\n",
       "      <td>0.070300</td>\n",
       "    </tr>\n",
       "    <tr>\n",
       "      <th>3</th>\n",
       "      <td>-0.376514</td>\n",
       "      <td>-0.816404</td>\n",
       "      <td>0.039058</td>\n",
       "    </tr>\n",
       "    <tr>\n",
       "      <th>4</th>\n",
       "      <td>-0.815160</td>\n",
       "      <td>0.775397</td>\n",
       "      <td>-0.342786</td>\n",
       "    </tr>\n",
       "    <tr>\n",
       "      <th>5</th>\n",
       "      <td>0.338144</td>\n",
       "      <td>-1.133207</td>\n",
       "      <td>-0.152289</td>\n",
       "    </tr>\n",
       "    <tr>\n",
       "      <th>6</th>\n",
       "      <td>0.933335</td>\n",
       "      <td>0.027708</td>\n",
       "      <td>-2.121102</td>\n",
       "    </tr>\n",
       "    <tr>\n",
       "      <th>7</th>\n",
       "      <td>-0.880834</td>\n",
       "      <td>-0.179361</td>\n",
       "      <td>0.542144</td>\n",
       "    </tr>\n",
       "    <tr>\n",
       "      <th>8</th>\n",
       "      <td>-0.060717</td>\n",
       "      <td>0.416171</td>\n",
       "      <td>-0.476462</td>\n",
       "    </tr>\n",
       "    <tr>\n",
       "      <th>9</th>\n",
       "      <td>1.038544</td>\n",
       "      <td>1.936763</td>\n",
       "      <td>1.370942</td>\n",
       "    </tr>\n",
       "  </tbody>\n",
       "</table>\n",
       "</div>"
      ],
      "text/plain": [
       "          a         b         c\n",
       "0  0.595588 -0.214106 -0.340864\n",
       "1 -1.589176 -0.824616 -0.303373\n",
       "2  0.183353  0.576995  0.070300\n",
       "3 -0.376514 -0.816404  0.039058\n",
       "4 -0.815160  0.775397 -0.342786\n",
       "5  0.338144 -1.133207 -0.152289\n",
       "6  0.933335  0.027708 -2.121102\n",
       "7 -0.880834 -0.179361  0.542144\n",
       "8 -0.060717  0.416171 -0.476462\n",
       "9  1.038544  1.936763  1.370942"
      ]
     },
     "execution_count": 22,
     "metadata": {},
     "output_type": "execute_result"
    }
   ],
   "source": [
    "df = pd.DataFrame(np.random.randn(10,3),columns=list('abc'))\n",
    "df"
   ]
  },
  {
   "cell_type": "code",
   "execution_count": 28,
   "id": "5009e97c",
   "metadata": {},
   "outputs": [
    {
     "data": {
      "text/html": [
       "<div>\n",
       "<style scoped>\n",
       "    .dataframe tbody tr th:only-of-type {\n",
       "        vertical-align: middle;\n",
       "    }\n",
       "\n",
       "    .dataframe tbody tr th {\n",
       "        vertical-align: top;\n",
       "    }\n",
       "\n",
       "    .dataframe thead th {\n",
       "        text-align: right;\n",
       "    }\n",
       "</style>\n",
       "<table border=\"1\" class=\"dataframe\">\n",
       "  <thead>\n",
       "    <tr style=\"text-align: right;\">\n",
       "      <th></th>\n",
       "      <th>a</th>\n",
       "      <th>b</th>\n",
       "      <th>c</th>\n",
       "    </tr>\n",
       "  </thead>\n",
       "  <tbody>\n",
       "    <tr>\n",
       "      <th>1</th>\n",
       "      <td>-1.589176</td>\n",
       "      <td>-0.824616</td>\n",
       "      <td>-0.303373</td>\n",
       "    </tr>\n",
       "    <tr>\n",
       "      <th>7</th>\n",
       "      <td>-0.880834</td>\n",
       "      <td>-0.179361</td>\n",
       "      <td>0.542144</td>\n",
       "    </tr>\n",
       "  </tbody>\n",
       "</table>\n",
       "</div>"
      ],
      "text/plain": [
       "          a         b         c\n",
       "1 -1.589176 -0.824616 -0.303373\n",
       "7 -0.880834 -0.179361  0.542144"
      ]
     },
     "execution_count": 28,
     "metadata": {},
     "output_type": "execute_result"
    }
   ],
   "source": [
    "df.query('(a<b) & (b<c)')"
   ]
  }
 ],
 "metadata": {
  "kernelspec": {
   "display_name": "base",
   "language": "python",
   "name": "python3"
  },
  "language_info": {
   "codemirror_mode": {
    "name": "ipython",
    "version": 3
   },
   "file_extension": ".py",
   "mimetype": "text/x-python",
   "name": "python",
   "nbconvert_exporter": "python",
   "pygments_lexer": "ipython3",
   "version": "3.11.7"
  }
 },
 "nbformat": 4,
 "nbformat_minor": 5
}
